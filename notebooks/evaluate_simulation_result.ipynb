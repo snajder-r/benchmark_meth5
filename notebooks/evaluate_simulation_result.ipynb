{
 "cells": [
  {
   "cell_type": "code",
   "execution_count": 1,
   "metadata": {
    "collapsed": true
   },
   "outputs": [],
   "source": [
    "from pathlib import Path\n",
    "import tqdm\n",
    "import pandas as pd\n",
    "import numpy as np\n",
    "import matplotlib.pyplot as plt\n",
    "from pyfaidx import Fasta\n",
    "from meth5 import MetH5File\n",
    "\n",
    "from benchmark_pycometh.simulation.nanopolish_simulator import OmicsSimlaLoader\n",
    "from nanoepitools.plotting.general_plotting import PlotArchiver, plot_2d_density\n",
    "from benchmark_pycometh.config import module_config"
   ]
  },
  {
   "cell_type": "code",
   "execution_count": 40,
   "outputs": [],
   "source": [
    "ground_truth_file = \"/home/r933r/data/projects/nanopore/pycometh_benchmark/simulated/wgbs/merged/changepoints.txt\"\n",
    "\n",
    "gt = pd.read_csv(ground_truth_file, sep=\"\\t\", names=[\"chrom\", \"start\", \"end\", \"segment_type\", \"diffmet\"])\n",
    "gt_dmrs = gt.loc[gt[\"diffmet\"]!=0]\n",
    "gt_negative = gt.loc[gt[\"diffmet\"]==0]"
   ],
   "metadata": {
    "collapsed": false,
    "pycharm": {
     "name": "#%%\n"
    }
   }
  },
  {
   "cell_type": "code",
   "execution_count": 41,
   "outputs": [],
   "source": [
    "pa = PlotArchiver(\"simulation\", headless=False, config={\"plot_archive_dir\": \"/home/r933r/snajder/nanoepitools_plots/benchmark\"})"
   ],
   "metadata": {
    "collapsed": false,
    "pycharm": {
     "name": "#%%\n"
    }
   }
  },
  {
   "cell_type": "code",
   "execution_count": 19,
   "outputs": [],
   "source": [
    "methcp_dmrs_file = \"/home/r933r/data/projects/nanopore/pycometh_benchmark/simulated/methcp/methcp_dmr.bed\"\n",
    "methcp_dmrs = pd.read_csv(methcp_dmrs_file, sep=\"\\t\", names=[\"chrom\", \"start\", \"end\", \"nC.valid\", \"nC\", \"diffmet\", \"cov\", \"pval\"])"
   ],
   "metadata": {
    "collapsed": false,
    "pycharm": {
     "name": "#%%\n"
    }
   }
  },
  {
   "cell_type": "code",
   "execution_count": 46,
   "outputs": [],
   "source": [
    "class ResultComparer:\n",
    "    def __init__(self, segments):\n",
    "        self.segments = segments\n",
    "\n",
    "    def intersect_regions(self, left, right):\n",
    "        for a in left.itertuples():\n",
    "            for b in right.itertuples():\n",
    "                if a.chrom != b.chrom:\n",
    "                    continue\n",
    "                if a.start <= b.end and b.start <= a.end:\n",
    "                    yield a\n",
    "                    break\n",
    "    def get(self, key, diffmet_threshold=0):\n",
    "        ret = self.segments[key]\n",
    "        ret = ret.loc[ret[\"diffmet\"].map(lambda x: abs(x)>=diffmet_threshold)]\n",
    "        return ret\n",
    "\n",
    "    def compute_tpr(self, gt, pred, diffmet_threshold=0):\n",
    "        pred = self.get(pred, diffmet_threshold=diffmet_threshold)\n",
    "        gt = self.get(gt, diffmet_threshold=diffmet_threshold)\n",
    "        true_positives = list(self.intersect_regions(gt, pred))\n",
    "        return len(true_positives) / len(gt)\n",
    "\n",
    "    def compute_fpr(self, gt_pos, gt_neg, pred, diffmet_threshold=0):\n",
    "        pred = self.get(pred, diffmet_threshold=diffmet_threshold)\n",
    "        gt_neg = len(self.get(gt_neg)) + len(self.get(gt_pos))\n",
    "        gt_pos = self.get(gt_pos, diffmet_threshold=diffmet_threshold)\n",
    "        gt_neg = gt_neg - len(gt_pos)\n",
    "\n",
    "        true_positives = list(self.intersect_regions(gt_pos, pred))\n",
    "        false_positives = len(pred) - len(true_positives)\n",
    "        return false_positives / gt_neg"
   ],
   "metadata": {
    "collapsed": false,
    "pycharm": {
     "name": "#%%\n"
    }
   }
  },
  {
   "cell_type": "code",
   "execution_count": 47,
   "outputs": [
    {
     "name": "stdout",
     "output_type": "stream",
     "text": [
      "MethCP TPR 0.7624521072796935\n",
      "MethCP FPR 0.2076727964489537\n"
     ]
    }
   ],
   "source": [
    "rc = ResultComparer({\"GT\":gt_dmrs, \"MethCP\":methcp_dmrs, \"GT_neg\": gt_negative})\n",
    "print(\"MethCP TPR\", rc.compute_tpr(\"GT\", \"MethCP\"))\n",
    "print(\"MethCP FPR\", rc.compute_fpr(\"GT\", \"GT_neg\", \"MethCP\"))"
   ],
   "metadata": {
    "collapsed": false,
    "pycharm": {
     "name": "#%%\n"
    }
   }
  },
  {
   "cell_type": "code",
   "execution_count": 37,
   "outputs": [
    {
     "data": {
      "text/plain": "      chrom      start        end  segment_type  difference\n0         1      10468      28432             2         0.0\n1         1      28511      30094             1         0.0\n2         1      30154     521533             2         0.0\n3         1     521570     521793             3         0.6\n4         1     521945     563574             2         0.0\n...     ...        ...        ...           ...         ...\n6825      1  249159108  249167003             2         0.0\n6826      1  249167011  249168865             1         0.0\n6827      1  249168876  249200038             2         0.0\n6828      1  249200111  249201676             1         0.0\n6829      1  249201683  249239886             2         0.0\n\n[6830 rows x 5 columns]",
      "text/html": "<div>\n<style scoped>\n    .dataframe tbody tr th:only-of-type {\n        vertical-align: middle;\n    }\n\n    .dataframe tbody tr th {\n        vertical-align: top;\n    }\n\n    .dataframe thead th {\n        text-align: right;\n    }\n</style>\n<table border=\"1\" class=\"dataframe\">\n  <thead>\n    <tr style=\"text-align: right;\">\n      <th></th>\n      <th>chrom</th>\n      <th>start</th>\n      <th>end</th>\n      <th>segment_type</th>\n      <th>difference</th>\n    </tr>\n  </thead>\n  <tbody>\n    <tr>\n      <th>0</th>\n      <td>1</td>\n      <td>10468</td>\n      <td>28432</td>\n      <td>2</td>\n      <td>0.0</td>\n    </tr>\n    <tr>\n      <th>1</th>\n      <td>1</td>\n      <td>28511</td>\n      <td>30094</td>\n      <td>1</td>\n      <td>0.0</td>\n    </tr>\n    <tr>\n      <th>2</th>\n      <td>1</td>\n      <td>30154</td>\n      <td>521533</td>\n      <td>2</td>\n      <td>0.0</td>\n    </tr>\n    <tr>\n      <th>3</th>\n      <td>1</td>\n      <td>521570</td>\n      <td>521793</td>\n      <td>3</td>\n      <td>0.6</td>\n    </tr>\n    <tr>\n      <th>4</th>\n      <td>1</td>\n      <td>521945</td>\n      <td>563574</td>\n      <td>2</td>\n      <td>0.0</td>\n    </tr>\n    <tr>\n      <th>...</th>\n      <td>...</td>\n      <td>...</td>\n      <td>...</td>\n      <td>...</td>\n      <td>...</td>\n    </tr>\n    <tr>\n      <th>6825</th>\n      <td>1</td>\n      <td>249159108</td>\n      <td>249167003</td>\n      <td>2</td>\n      <td>0.0</td>\n    </tr>\n    <tr>\n      <th>6826</th>\n      <td>1</td>\n      <td>249167011</td>\n      <td>249168865</td>\n      <td>1</td>\n      <td>0.0</td>\n    </tr>\n    <tr>\n      <th>6827</th>\n      <td>1</td>\n      <td>249168876</td>\n      <td>249200038</td>\n      <td>2</td>\n      <td>0.0</td>\n    </tr>\n    <tr>\n      <th>6828</th>\n      <td>1</td>\n      <td>249200111</td>\n      <td>249201676</td>\n      <td>1</td>\n      <td>0.0</td>\n    </tr>\n    <tr>\n      <th>6829</th>\n      <td>1</td>\n      <td>249201683</td>\n      <td>249239886</td>\n      <td>2</td>\n      <td>0.0</td>\n    </tr>\n  </tbody>\n</table>\n<p>6830 rows × 5 columns</p>\n</div>"
     },
     "execution_count": 37,
     "metadata": {},
     "output_type": "execute_result"
    }
   ],
   "source": [
    "for diff_thres in np.arange(0, 0.7, 0.05):\n",
    "    print(f\"MethCP TPR ({diff_thres})\", rc.compute_tpr(\"GT\", \"MethCP\"))\n",
    "    print(f\"MethCP FPR ({diff_thres})\", rc.compute_fpr(\"GT\", \"GT_neg\", \"MethCP\"))"
   ],
   "metadata": {
    "collapsed": false,
    "pycharm": {
     "name": "#%%\n"
    }
   }
  }
 ],
 "metadata": {
  "kernelspec": {
   "display_name": "Python 3",
   "language": "python",
   "name": "python3"
  },
  "language_info": {
   "codemirror_mode": {
    "name": "ipython",
    "version": 2
   },
   "file_extension": ".py",
   "mimetype": "text/x-python",
   "name": "python",
   "nbconvert_exporter": "python",
   "pygments_lexer": "ipython2",
   "version": "2.7.6"
  }
 },
 "nbformat": 4,
 "nbformat_minor": 0
}