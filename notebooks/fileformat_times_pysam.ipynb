{
 "cells": [
  {
   "cell_type": "code",
   "execution_count": 1,
   "outputs": [],
   "source": [
    "import time\n",
    "import random\n",
    "import pyfaidx\n",
    "import tqdm\n",
    "from meth5.meth5 import MetH5File\n",
    "import matplotlib\n",
    "import matplotlib.pyplot as plt\n",
    "import numpy as np\n",
    "from nanoepitools.plotting.general_plotting import PlotArchiver\n",
    "from benchmark_pycometh.config import module_config\n",
    "\n",
    "import pysam\n",
    "from pysam import AlignmentFile, AlignedSegment"
   ],
   "metadata": {
    "collapsed": false,
    "pycharm": {
     "name": "#%%\n"
    }
   }
  },
  {
   "cell_type": "code",
   "execution_count": 2,
   "outputs": [],
   "source": [
    "matplotlib.use(\"Agg\")"
   ],
   "metadata": {
    "collapsed": false,
    "pycharm": {
     "name": "#%%\n"
    }
   }
  },
  {
   "cell_type": "code",
   "execution_count": 3,
   "outputs": [],
   "source": [
    "chroms = [str(i) for i in range(1, 22)]\n",
    "\n",
    "pa = PlotArchiver(\"meth5\", config={\"plot_archive_dir\": \"/home/r933r/snajder/nanoepitools_plots/benchmark\"})"
   ],
   "metadata": {
    "collapsed": false,
    "pycharm": {
     "name": "#%%\n"
    }
   }
  },
  {
   "cell_type": "code",
   "execution_count": 4,
   "outputs": [],
   "source": [
    "#bf = module_config.modbam_template_file.format(sample=\"HG003\")\n",
    "bf = \"/home/r933r/data/projects/nanopore/pycometh_benchmark/met_modbam_npdefault/test1.bam\"\n",
    "bf = pysam.AlignmentFile(bf)"
   ],
   "metadata": {
    "collapsed": false,
    "pycharm": {
     "name": "#%%\n"
    }
   }
  },
  {
   "cell_type": "code",
   "execution_count": 5,
   "outputs": [
    {
     "name": "stdout",
     "output_type": "stream",
     "text": [
      "{('C', 0, 'm'): [(33, 248), (54, 193)]}\n"
     ]
    }
   ],
   "source": [
    "for r in bf.fetch():\n",
    "    print(r.modified_bases_forward)"
   ],
   "metadata": {
    "collapsed": false,
    "pycharm": {
     "name": "#%%\n"
    }
   }
  },
  {
   "cell_type": "code",
   "execution_count": 39,
   "outputs": [
    {
     "name": "stderr",
     "output_type": "stream",
     "text": [
      "[E::bam_parse_basemod] Insufficient number of entries in ML tag\n"
     ]
    },
    {
     "data": {
      "text/plain": "NoneType"
     },
     "execution_count": 39,
     "metadata": {},
     "output_type": "execute_result"
    }
   ],
   "source": [],
   "metadata": {
    "collapsed": false,
    "pycharm": {
     "name": "#%%\n"
    }
   }
  },
  {
   "cell_type": "code",
   "execution_count": 4,
   "outputs": [
    {
     "ename": "NameError",
     "evalue": "name 'chroms' is not defined",
     "output_type": "error",
     "traceback": [
      "\u001B[0;31m---------------------------------------------------------------------------\u001B[0m",
      "\u001B[0;31mNameError\u001B[0m                                 Traceback (most recent call last)",
      "Input \u001B[0;32mIn [4]\u001B[0m, in \u001B[0;36m<module>\u001B[0;34m\u001B[0m\n\u001B[1;32m      6\u001B[0m cf \u001B[38;5;241m=\u001B[39m module_config\u001B[38;5;241m.\u001B[39mmodcram_template_file\u001B[38;5;241m.\u001B[39mformat(sample\u001B[38;5;241m=\u001B[39m\u001B[38;5;124m\"\u001B[39m\u001B[38;5;124mHG003\u001B[39m\u001B[38;5;124m\"\u001B[39m)\n\u001B[1;32m      7\u001B[0m ff \u001B[38;5;241m=\u001B[39m pyfaidx\u001B[38;5;241m.\u001B[39mFasta(module_config\u001B[38;5;241m.\u001B[39mreference)\n\u001B[0;32m----> 8\u001B[0m chromlen \u001B[38;5;241m=\u001B[39m {chrom: \u001B[38;5;28mlen\u001B[39m(ff[chrom]) \u001B[38;5;28;01mfor\u001B[39;00m chrom \u001B[38;5;129;01min\u001B[39;00m \u001B[43mchroms\u001B[49m}\n\u001B[1;32m     11\u001B[0m \u001B[38;5;28;01mdef\u001B[39;00m \u001B[38;5;21mgenerate_random_coordinates\u001B[39m(num, size\u001B[38;5;241m=\u001B[39m\u001B[38;5;241m1000\u001B[39m):\n\u001B[1;32m     12\u001B[0m     chroms \u001B[38;5;241m=\u001B[39m [\u001B[38;5;28mstr\u001B[39m(i) \u001B[38;5;28;01mfor\u001B[39;00m i \u001B[38;5;129;01min\u001B[39;00m \u001B[38;5;28mrange\u001B[39m(\u001B[38;5;241m1\u001B[39m, \u001B[38;5;241m22\u001B[39m)]\n",
      "\u001B[0;31mNameError\u001B[0m: name 'chroms' is not defined"
     ]
    }
   ],
   "source": [
    "\n",
    "mf_lzf = MetH5File(module_config.meth5_template_file.format(sample=\"HG003\"), \"r\", chunk_size=50000)\n",
    "mf_gz = MetH5File(module_config.meth5_gzipped_template_file.format(sample=\"HG003\"), \"r\", chunk_size=50000)\n",
    "\n",
    "\n",
    "bf = module_config.modbam_template_file.format(sample=\"HG003\")\n",
    "cf = module_config.modcram_template_file.format(sample=\"HG003\")\n",
    "ff = pyfaidx.Fasta(module_config.reference)\n",
    "chromlen = {chrom: len(ff[chrom]) for chrom in chroms}\n",
    "\n",
    "\n",
    "def generate_random_coordinates(num, size=1000):\n",
    "    chroms = [str(i) for i in range(1, 22)]\n",
    "\n",
    "    for _ in range(num):\n",
    "        chrom = random.choice(chroms)\n",
    "        start = np.random.randint(0, chromlen[chrom] - size)\n",
    "        end = start + size\n",
    "        yield chrom, start, end\n",
    "\n",
    "def benchmark_meth5(f):\n",
    "    rand_coords = list(generate_random_coordinates(100))\n",
    "    st = time.time()\n",
    "    num = 0\n",
    "    for coord in rand_coords:\n",
    "        num += len(f[coord[0]].get_values_in_range(coord[1], coord[2]).get_llrs())\n",
    "    return time.time() - st\n",
    "\n",
    "def benchmark_modbam(f):\n",
    "    rand_coords = list(generate_random_coordinates(100))\n",
    "    st = time.time()\n",
    "    num = 0\n",
    "    for coord in rand_coords:\n",
    "        with ModBam(f, coord[0], coord[1], coord[2]) as bam:\n",
    "            for read in bam.reads():\n",
    "                for pos_mod in read.mod_sites:\n",
    "                    ref_pos = pos_mod[1]\n",
    "                    if coord[1] <= ref_pos < coord[2]:\n",
    "                        mod_base_score = pos_mod[7]\n",
    "                        print(mod_base_score)\n",
    "                        num += 1\n",
    "    return time.time() - st\n",
    "\n",
    "\n",
    "rounds = 100\n",
    "times_meth5_lzf = [benchmark_meth5(mf_lzf) for _ in tqdm.tqdm(list(range(rounds)))]\n",
    "times_meth5_gz = [benchmark_meth5(mf_gz) for _ in tqdm.tqdm(list(range(rounds)))]\n",
    "times_modbam = [benchmark_modbam(bf) for _ in tqdm.tqdm(list(range(rounds)))]\n",
    "times_modcram = [benchmark_modbam(cf) for _ in tqdm.tqdm(list(range(rounds)))]\n",
    "\n",
    "with pa.open_multipage_pdf(\"meth5_modbampy_random_access\"):\n",
    "    pa.figure(figsize=(6, 3))\n",
    "    plt.title(\"Seconds accessing 100 random 1000bps spans (seconds)\")\n",
    "    plt.barh(1, np.mean(times_meth5_lzf), xerr=np.std(times_meth5_lzf))\n",
    "    plt.barh(2, np.mean(times_meth5_gz), xerr=np.std(times_meth5_gz))\n",
    "    plt.barh(3, np.mean(times_modbam), xerr=np.std(times_modbam))\n",
    "    plt.barh(4, np.mean(times_modcram), xerr=np.std(times_modcram))\n",
    "    plt.yticks([1, 2, 3, 4], labels=[\"MetH5 (LZF compressed)\", \"MetH5 (gzip compressed)\", \"BAM\", \"CRAM\"])\n",
    "    plt.xlabel(\"Time (seconds)\")\n",
    "    pa.savefig()\n",
    "\n",
    "\n",
    "def sequential_meth5(f, chrom):\n",
    "    st = time.time()\n",
    "    pos = 0\n",
    "    num = 0\n",
    "    for chunk in range(f[chrom].get_number_of_chunks()):\n",
    "        llrs = f[chrom].get_chunk(chunk).get_llrs()\n",
    "        pos += (llrs > 2).sum()\n",
    "        num += (np.abs(llrs) > 2).sum()\n",
    "    print(pos / num)\n",
    "    return time.time() - st\n",
    "\n",
    "\n",
    "def sequential_modbam(f, chrom):\n",
    "    st = time.time()\n",
    "    pos = 0\n",
    "    count = 0\n",
    "    with ModBam(f, chrom, 0, chromlen[chrom]) as bam:\n",
    "        for read in bam.reads():\n",
    "            for pos_mod in read.mod_sites:\n",
    "                mod_base_score = pos_mod[7]\n",
    "                if mod_base_score > 168:\n",
    "                    pos += 1\n",
    "                    count += 1\n",
    "                if mod_base_score < 85:\n",
    "                    count += 1\n",
    "    print(pos / count)\n",
    "    return time.time() - st\n",
    "\n",
    "\n",
    "seconds_meth5_chrom_lzf = sequential_meth5(mf_lzf,\"21\")\n",
    "seconds_meth5_chrom_gz = sequential_meth5(mf_gz,\"21\")\n",
    "seconds_modbam_chrom = sequential_modbam(bf,\"21\")\n",
    "seconds_mocram_chrom = sequential_modbam(cf,\"21\")\n",
    "\n",
    "\n",
    "with pa.open_multipage_pdf(\"meth5_modbampy_sequential_access\"):\n",
    "    pa.figure(figsize=(6, 3))\n",
    "    plt.title(\"Seconds computing total methylation rate of chromosome 21\")\n",
    "    plt.barh(1, seconds_meth5_chrom_lzf)\n",
    "    plt.barh(2, seconds_meth5_chrom_gz)\n",
    "    plt.barh(3, seconds_modbam_chrom)\n",
    "    plt.barh(4, seconds_mocram_chrom)\n",
    "    plt.yticks([1, 2, 3, 4], labels=[\"MetH5 (LZF compressed)\", \"MetH5 (gzip compressed)\", \"BAM\", \"CRAM\"])\n",
    "    plt.xlabel(\"Time (seconds)\")\n",
    "    pa.savefig()\n"
   ],
   "metadata": {
    "collapsed": false,
    "pycharm": {
     "name": "#%%\n"
    }
   }
  },
  {
   "cell_type": "code",
   "execution_count": 7,
   "outputs": [],
   "source": [
    "import time\n",
    "import random\n",
    "import pyfaidx\n",
    "from meth5.meth5 import MetH5File\n",
    "import matplotlib\n",
    "import matplotlib.pyplot as plt\n",
    "import numpy as np\n",
    "from nanoepitools.plotting.general_plotting import PlotArchiver\n",
    "from benchmark_pycometh.config import module_config\n",
    "\n",
    "matplotlib.use(\"Agg\")\n",
    "pa = PlotArchiver(\"meth5\", config={\"plot_archive_dir\": \"/home/r933r/snajder/nanoepitools_plots/benchmark\"})\n",
    "\n",
    "mbs = 1024 * 1024\n",
    "file_size_hg003_modbam = (88158512983) / mbs\n",
    "file_size_hg003_modcram = (56391576891) / mbs\n",
    "file_size_hg003_bam = (86750913912) / mbs\n",
    "file_size_hg003_cram = (55561487882) / mbs\n",
    "\n",
    "file_size_hg003_meth5 = (1580536213) / (1024 * 1024)\n",
    "file_size_hg003_meth5_lzf = (2323668689) / (1024 * 1024)\n",
    "\n",
    "\n",
    "\n",
    "with pa.open_multipage_pdf(\"meth5_modbampy_filesize\"):\n",
    "    pa.figure(figsize=(6, 3))\n",
    "    plt.title(\"File size for ~30x human genome\")\n",
    "    plt.barh(1, file_size_hg003_meth5_lzf, color=\"#1F77B4\")\n",
    "    plt.barh(2, file_size_hg003_meth5, color=\"#FF7F0E\")\n",
    "\n",
    "\n",
    "    plt.barh(3, file_size_hg003_modbam-file_size_hg003_bam, color=\"#2CA02C\",)\n",
    "\n",
    "    plt.barh(4, file_size_hg003_modcram-file_size_hg003_cram, color=\"#D62728\")\n",
    "    plt.xlim(0,plt.xlim()[1]*1.1)\n",
    "    plt.yticks([1, 2, 3, 4], labels=[\"MetH5 (LZF compressed)\", \"MetH5 (gzip compressed)\", \"ModCRAM\", \"ModBAM\"])\n",
    "    plt.xlabel(\"Megabytes\")\n",
    "    pa.savefig()"
   ],
   "metadata": {
    "collapsed": false,
    "pycharm": {
     "name": "#%%\n"
    }
   }
  },
  {
   "cell_type": "code",
   "execution_count": 10,
   "outputs": [
    {
     "data": {
      "text/plain": "82732.11852264404"
     },
     "execution_count": 10,
     "metadata": {},
     "output_type": "execute_result"
    }
   ],
   "source": [
    "file_size_hg003_bam"
   ],
   "metadata": {
    "collapsed": false,
    "pycharm": {
     "name": "#%%\n"
    }
   }
  }
 ],
 "metadata": {
  "kernelspec": {
   "name": "python3",
   "language": "python",
   "display_name": "Python 3 (ipykernel)"
  },
  "language_info": {
   "codemirror_mode": {
    "name": "ipython",
    "version": 2
   },
   "file_extension": ".py",
   "mimetype": "text/x-python",
   "name": "python",
   "nbconvert_exporter": "python",
   "pygments_lexer": "ipython2",
   "version": "2.7.6"
  }
 },
 "nbformat": 4,
 "nbformat_minor": 0
}