{
 "cells": [
  {
   "cell_type": "code",
   "execution_count": 1,
   "metadata": {
    "collapsed": true
   },
   "outputs": [],
   "source": [
    "from pathlib import Path\n",
    "import random\n",
    "import numpy as np\n",
    "import scipy.stats\n",
    "import matplotlib.pyplot as plt\n",
    "from pyfaidx import Fasta\n",
    "from meth5 import MetH5File\n",
    "import pandas as pd\n",
    "\n",
    "from bayes_opt import BayesianOptimization\n",
    "from pomegranate import NormalDistribution, BetaDistribution, GeneralMixtureModel\n",
    "\n",
    "from nanoepitools.plotting.general_plotting import PlotArchiver, plot_2d_density\n",
    "from nanoepitools.math import llr_to_p, p_to_llr\n",
    "from benchmark_pycometh.config import module_config\n",
    "from benchmark_pycometh.simulation.nanopolish_simulator import OmicsSimlaLoader"
   ]
  },
  {
   "cell_type": "code",
   "execution_count": null,
   "outputs": [],
   "source": [
    "def estimate_beta_dist(x):\n",
    "    mean = np.mean(x)\n",
    "    var = np.var(x)\n",
    "    alpha = ((1-mean) / var - 1/mean) *  mean**2\n",
    "    beta = alpha * (1/mean - 1)\n",
    "    return alpha, beta"
   ],
   "metadata": {
    "collapsed": false,
    "pycharm": {
     "name": "#%%\n"
    }
   }
  },
  {
   "cell_type": "code",
   "execution_count": null,
   "outputs": [],
   "source": [
    "pa = PlotArchiver(\"simulation\", headless=False, config={\"plot_archive_dir\": \"/home/r933r/snajder/nanoepitools_plots/benchmark\"})\n",
    "\n",
    "Fasta(module_config.reference)"
   ],
   "metadata": {
    "collapsed": false,
    "pycharm": {
     "name": "#%%\n"
    }
   }
  },
  {
   "cell_type": "code",
   "execution_count": null,
   "outputs": [],
   "source": [
    "mf = MetH5File(module_config.meth5_template_file.format(sample=\"HG002\"), \"r\")"
   ],
   "metadata": {
    "collapsed": false,
    "pycharm": {
     "name": "#%%\n"
    }
   }
  },
  {
   "cell_type": "code",
   "execution_count": null,
   "outputs": [],
   "source": [
    "llrs = mf[\"21\"].get_all_values().get_llrs()\n",
    "\n",
    "pa.figure()\n",
    "plt.hist(np.clip(llrs, -20, 20), bins=40)\n",
    "plt.xlim(-20,20)\n",
    "plt.show()"
   ],
   "metadata": {
    "collapsed": false,
    "pycharm": {
     "name": "#%%\n"
    }
   }
  },
  {
   "cell_type": "code",
   "execution_count": null,
   "outputs": [],
   "source": [
    "ps = llr_to_p(llrs)\n",
    "\n",
    "pa.figure()\n",
    "plt.hist(ps, bins=40)\n",
    "plt.xlim(0,1)\n",
    "plt.show()"
   ],
   "metadata": {
    "collapsed": false,
    "pycharm": {
     "name": "#%%\n"
    }
   }
  },
  {
   "cell_type": "code",
   "execution_count": null,
   "outputs": [],
   "source": [
    "pa.figure()\n",
    "plt.hist(np.abs(ps*2-1), bins=40)\n",
    "plt.xlim(0,1)\n",
    "plt.show()"
   ],
   "metadata": {
    "collapsed": false,
    "pycharm": {
     "name": "#%%\n"
    }
   }
  },
  {
   "cell_type": "code",
   "execution_count": null,
   "outputs": [],
   "source": [
    "s = np.random.beta(*estimate_beta_dist(np.abs(ps*2-1)), 10000)\n",
    "pa.figure()\n",
    "plt.hist(s, bins=40)\n",
    "plt.xlim(0,1)\n",
    "plt.show()"
   ],
   "metadata": {
    "collapsed": false,
    "pycharm": {
     "name": "#%%\n"
    }
   }
  },
  {
   "cell_type": "code",
   "execution_count": null,
   "outputs": [],
   "source": [
    "estimate_beta_dist(np.abs(ps*2-1))"
   ],
   "metadata": {
    "collapsed": false,
    "pycharm": {
     "name": "#%%\n"
    }
   }
  },
  {
   "cell_type": "code",
   "execution_count": null,
   "outputs": [],
   "source": [
    "\n",
    "\n",
    "ps_clipped = np.clip(ps, 1e-10, 1-1e-10)\n",
    "def loss_bimodal(a, b, mu, sigma, w1):\n",
    "    beta_loss = BetaDistribution(a, b).probability(ps_clipped)\n",
    "    norm_loss = NormalDistribution(mu, sigma).probability(ps_clipped)\n",
    "    return np.log(w1 * beta_loss + (1 - w1) * norm_loss).sum()\n",
    "\n",
    "def pdf_bimodal(a, b, mu, sigma, w1, x=np.arange(0, 1, 0.01)):\n",
    "    return w1 * BetaDistribution(a, b).probability(x) + \\\n",
    "        (1 - w1) * NormalDistribution(mu, sigma).probability(x)\n",
    "\n",
    "optimizer = BayesianOptimization(\n",
    "    f=loss_bimodal,\n",
    "    pbounds={'mu': (0.25, 0.75),\n",
    "             'sigma': (0.01, 0.1),\n",
    "             'a': (0.01, 0.99),\n",
    "             'b': (0.01, 0.99),\n",
    "             'w1': (0.8, 0.99)},\n",
    "    random_state=1\n",
    ")\n",
    "optimizer.maximize(\n",
    "    init_points=5,\n",
    "    n_iter=100, kappa_decay=0.95\n",
    ")"
   ],
   "metadata": {
    "collapsed": false,
    "pycharm": {
     "name": "#%%\n"
    }
   }
  },
  {
   "cell_type": "code",
   "execution_count": null,
   "outputs": [],
   "source": [],
   "metadata": {
    "collapsed": false,
    "pycharm": {
     "name": "#%%\n"
    }
   }
  },
  {
   "cell_type": "code",
   "execution_count": null,
   "outputs": [],
   "source": [
    "a, b, mu, sigma, w1 = [v for k, v in optimizer.max['params'].items()]\n",
    "x = np.arange(0, 1, 0.001)\n",
    "pa.figure()\n",
    "plt.plot(x, pdf_bimodal(a, b, mu, sigma, w1, x))\n",
    "plt.hist(ps_clipped, density=True, bins=100)\n",
    "plt.show()"
   ],
   "metadata": {
    "collapsed": false,
    "pycharm": {
     "name": "#%%\n"
    }
   }
  },
  {
   "cell_type": "code",
   "execution_count": null,
   "outputs": [],
   "source": [
    "model = GeneralMixtureModel([NormalDistribution(mu, sigma), BetaDistribution(a,b)], weights=[1-w1, w1])\n",
    "s = model.sample(10000)\n",
    "pa.figure()\n",
    "plt.hist(s, bins=40)\n",
    "plt.xlim(0,1)\n",
    "plt.show()"
   ],
   "metadata": {
    "collapsed": false,
    "pycharm": {
     "name": "#%%\n"
    }
   }
  },
  {
   "cell_type": "code",
   "execution_count": null,
   "outputs": [],
   "source": [
    "bs = mf[\"1\"].get_all_values().get_llr_site_readgroup_rate(\"haplotype\")"
   ],
   "metadata": {
    "collapsed": false,
    "pycharm": {
     "name": "#%%\n"
    }
   }
  },
  {
   "cell_type": "code",
   "execution_count": null,
   "outputs": [],
   "source": [
    "pa.figure()\n",
    "plt.hist(np.concatenate((bs[1][0],bs[2][0],bs[3][0],bs[0][0])), bins=40)\n",
    "plt.show()"
   ],
   "metadata": {
    "collapsed": false,
    "pycharm": {
     "name": "#%%\n"
    }
   }
  },
  {
   "cell_type": "code",
   "execution_count": null,
   "outputs": [],
   "source": [
    "bs = mf[\"1\"].get_all_values().get_llr_site_rate()\n",
    "pa.figure()\n",
    "plt.hist(bs[0], bins=40)\n",
    "plt.show()"
   ],
   "metadata": {
    "collapsed": false,
    "pycharm": {
     "name": "#%%\n"
    }
   }
  },
  {
   "cell_type": "code",
   "execution_count": null,
   "outputs": [],
   "source": [
    "bs_a, bs_b = estimate_beta_dist(bs[0])\n",
    "\n",
    "s = BetaDistribution(bs_a, bs_b).sample(len(bs[0]))\n",
    "pa.figure()\n",
    "plt.hist(s, bins=40)\n",
    "plt.hist()"
   ],
   "metadata": {
    "collapsed": false,
    "pycharm": {
     "name": "#%%\n"
    }
   }
  },
  {
   "cell_type": "code",
   "execution_count": null,
   "outputs": [],
   "source": [],
   "metadata": {
    "collapsed": false,
    "pycharm": {
     "name": "#%%\n"
    }
   }
  },
  {
   "cell_type": "code",
   "execution_count": null,
   "outputs": [],
   "source": [
    "omics_simla_dir = Path(\"/home/r933r/data/projects/nanopore/pycometh_benchmark/simulated/wgbs/unmetbig\")\n",
    "omics_simla_profile_path = Path(\"/home/r933r/data/software/users/snajder/OmicsSIMLA_v0.6/profiles/methylation/WGBS/liver_profile.txt\")\n",
    "omics_simla_profile_map_path = Path(\"/home/r933r/data/software/users/snajder/OmicsSIMLA_v0.6/profiles/methylation/WGBS/map.txt\")\n",
    "\n",
    "sim = OmicsSimlaLoader(omics_simla_dir, omics_simla_profile_path, omics_simla_profile_map_path)\n",
    "\n"
   ],
   "metadata": {
    "collapsed": false,
    "pycharm": {
     "name": "#%%\n"
    }
   }
  },
  {
   "cell_type": "code",
   "execution_count": null,
   "outputs": [],
   "source": [
    "for sample in sim.rates:\n",
    "    sim.summary[sample] = sim.rates[sample]\n",
    "\n",
    "sim.summary[\"segment_rate\"] = sim.profile_rates"
   ],
   "metadata": {
    "collapsed": false,
    "pycharm": {
     "name": "#%%\n"
    }
   }
  },
  {
   "cell_type": "code",
   "execution_count": null,
   "outputs": [],
   "source": [
    "\n",
    "pa.figure()\n",
    "plot_2d_density(np.array(sim.profile_rates), np.array(sim.summary[\"DCONTROLS1\"]), cmap=\"jet\")\n",
    "plt.gca().set_aspect(\"equal\")\n",
    "plt.plot([0,1],[0,1])\n",
    "plt.show()\n",
    "\n",
    "pa.figure()\n",
    "plot_2d_density(np.array(sim.profile_rates), np.array(sim.summary[\"DCASES1\"]), cmap=\"jet\")\n",
    "plt.gca().set_aspect(\"equal\")\n",
    "plt.plot([0,1],[0,1])\n",
    "plt.show()"
   ],
   "metadata": {
    "collapsed": false,
    "pycharm": {
     "name": "#%%\n"
    }
   }
  },
  {
   "cell_type": "code",
   "execution_count": null,
   "outputs": [],
   "source": [
    "idx = np.array(sim.summary[\"Theta\"] < 0) & (sim.segment_types == 1)\n",
    "pa.figure()\n",
    "plot_2d_density(np.array(sim.summary[\"DCONTROLS1\"])[idx], np.array(sim.summary[\"DCASES1\"])[idx], cmap=\"jet\", nbins=100)\n",
    "plt.gca().set_aspect(\"equal\")\n",
    "plt.plot([0,1],[0,1])\n",
    "plt.show()\n",
    "\n",
    "pa.figure()\n",
    "plot_2d_density(sim.profile_rates[idx], np.array(sim.summary[\"DCASES1\"])[idx], cmap=\"jet\", nbins=100)\n",
    "plt.gca().set_aspect(\"equal\")\n",
    "plt.plot([0,1],[0,1])\n",
    "plt.show()"
   ],
   "metadata": {
    "collapsed": false,
    "pycharm": {
     "name": "#%%\n"
    }
   }
  },
  {
   "cell_type": "code",
   "execution_count": null,
   "outputs": [],
   "source": [],
   "metadata": {
    "collapsed": false,
    "pycharm": {
     "name": "#%%\n"
    }
   }
  },
  {
   "cell_type": "code",
   "execution_count": null,
   "outputs": [],
   "source": [
    "def read_fq_read_lengths(fq_files, minlen=100):\n",
    "    for fq_file in fq_files:\n",
    "        with open(fq_file, \"r\") as f:\n",
    "            while True:\n",
    "                try:\n",
    "                    _ = next(f) # header\n",
    "                    seq = next(f) # seq\n",
    "                    _ = next(f) # header\n",
    "                    _ = next(f) # qual\n",
    "                    l = len(seq)\n",
    "                    if l > minlen:\n",
    "                        yield l\n",
    "                except StopIteration:\n",
    "                    break\n",
    "\n",
    "fq_dir = \"/home/r933r/data/projects/nanopore/pycometh_benchmark/fastq/HG002/\"\n",
    "batches = [f\"{fq_dir}/{i}.fq\" for i in range(20)]\n",
    "read_lens = list(read_fq_read_lengths(batches))"
   ],
   "metadata": {
    "collapsed": false,
    "pycharm": {
     "name": "#%%\n"
    }
   }
  },
  {
   "cell_type": "code",
   "execution_count": null,
   "outputs": [],
   "source": [
    "pa.figure()\n",
    "plt.hist(np.log10(read_lens), bins=100)\n",
    "plt.show()"
   ],
   "metadata": {
    "collapsed": false,
    "pycharm": {
     "name": "#%%\n"
    }
   }
  },
  {
   "cell_type": "code",
   "execution_count": null,
   "outputs": [],
   "source": [
    "readlen_model = GeneralMixtureModel([NormalDistribution(3,0.5), NormalDistribution(4,0.5), NormalDistribution(5,0.5)])\n",
    "readlen_model.fit(np.log10(read_lens))"
   ],
   "metadata": {
    "collapsed": false,
    "pycharm": {
     "name": "#%%\n"
    }
   }
  },
  {
   "cell_type": "code",
   "execution_count": null,
   "outputs": [],
   "source": [
    "s = readlen_model.sample(len(read_lens)//50)\n",
    "pa.figure()\n",
    "plt.hist(s, bins=100, alpha=0.5, label=\"sim\")\n",
    "#plt.hist(np.log10(read_lens), bins=100, alpha=0.5, label=\"real\")\n",
    "plt.legend()\n",
    "plt.show()"
   ],
   "metadata": {
    "collapsed": false,
    "pycharm": {
     "name": "#%%\n"
    }
   }
  },
  {
   "cell_type": "code",
   "execution_count": 2,
   "outputs": [
    {
     "data": {
      "text/plain": "1999.99908"
     },
     "execution_count": 2,
     "metadata": {},
     "output_type": "execute_result"
    }
   ],
   "source": [
    "99 999 954 / 500 / 100"
   ],
   "metadata": {
    "collapsed": false,
    "pycharm": {
     "name": "#%%\n"
    }
   }
  }
 ],
 "metadata": {
  "kernelspec": {
   "display_name": "Python 3",
   "language": "python",
   "name": "python3"
  },
  "language_info": {
   "codemirror_mode": {
    "name": "ipython",
    "version": 2
   },
   "file_extension": ".py",
   "mimetype": "text/x-python",
   "name": "python",
   "nbconvert_exporter": "python",
   "pygments_lexer": "ipython2",
   "version": "2.7.6"
  }
 },
 "nbformat": 4,
 "nbformat_minor": 0
}